{
  "nbformat": 4,
  "nbformat_minor": 0,
  "metadata": {
    "colab": {
      "name": "LinearDiscriminantAnalysis.ipynb",
      "provenance": [],
      "authorship_tag": "ABX9TyMpkiaJ5yH/14CI6fQqUJqc",
      "include_colab_link": true
    },
    "kernelspec": {
      "name": "python3",
      "display_name": "Python 3"
    }
  },
  "cells": [
    {
      "cell_type": "markdown",
      "metadata": {
        "id": "view-in-github",
        "colab_type": "text"
      },
      "source": [
        "<a href=\"https://colab.research.google.com/github/ndq3004/2/blob/master/MachineLearningCoBan/DimentionalityReduction/LinearDiscriminantAnalysis/LinearDiscriminantAnalysis.ipynb\" target=\"_parent\"><img src=\"https://colab.research.google.com/assets/colab-badge.svg\" alt=\"Open In Colab\"/></a>"
      ]
    },
    {
      "cell_type": "code",
      "metadata": {
        "id": "QgxDNeCWL65J",
        "colab_type": "code",
        "colab": {}
      },
      "source": [
        "from __future__ import print_function, division, unicode_literals\n",
        "import numpy as np\n",
        "import matplotlib.pyplot as plt\n",
        "from matplotlib.backends.backend_pdf import PdfPages\n",
        "np.random.seed(22)\n",
        "\n",
        "means = [[0, 5], [5, 0]]\n",
        "cov0 = [[4, 3], [3, 4]]\n",
        "cov1 = [[3, 1], [1, 1]]\n",
        "N0, N1 = 50, 40\n",
        "N = N0 + N1\n",
        "X0 = np.random.multivariate_normal(means[0], cov0, N0)\n",
        "X1 = np.random.multivariate_normal(means[1], cov1, N1)\n"
      ],
      "execution_count": 0,
      "outputs": []
    },
    {
      "cell_type": "code",
      "metadata": {
        "id": "ElLy5ChPYqS-",
        "colab_type": "code",
        "colab": {}
      },
      "source": [
        "# Tinhs các ma trận within-class và between-class covariance\n",
        "m0 = np.mean(X0.T, axis = 1, keepdims=True)\n",
        "m1 = np.mean(X1.T, axis = 1, keepdims=True)\n",
        "\n",
        "a = (m0 - m1)\n",
        "S_B = a.dot(a.T)\n",
        "\n",
        "# build S_W\n",
        "A = X0.T - np.tile(m0, (1, N0))\n",
        "B = X1.T - np.tile(m1, (1, N1))\n",
        "\n",
        "S_W = A.dot(A.T) + B.dot(B.T)"
      ],
      "execution_count": 0,
      "outputs": []
    },
    {
      "cell_type": "code",
      "metadata": {
        "id": "tIqKJP3NZVh9",
        "colab_type": "code",
        "colab": {}
      },
      "source": [
        "_, W = np.linalg.eig(np.linalg.inv(S_W).dot(S_B))\n",
        "w = W[:, 0]\n"
      ],
      "execution_count": 0,
      "outputs": []
    },
    {
      "cell_type": "code",
      "metadata": {
        "id": "y-BbFEJMZpp5",
        "colab_type": "code",
        "outputId": "62cf046f-ea6e-4a5c-9428-08e4137b878f",
        "colab": {
          "base_uri": "https://localhost:8080/",
          "height": 300
        }
      },
      "source": [
        "print('w = ', w)\n",
        "plt.plot(w)\n",
        "# plt.show()"
      ],
      "execution_count": 0,
      "outputs": [
        {
          "output_type": "stream",
          "text": [
            "w =  [ 0.75091074 -0.66040371]\n"
          ],
          "name": "stdout"
        },
        {
          "output_type": "execute_result",
          "data": {
            "text/plain": [
              "[<matplotlib.lines.Line2D at 0x7fe9dc31bcc0>]"
            ]
          },
          "metadata": {
            "tags": []
          },
          "execution_count": 66
        },
        {
          "output_type": "display_data",
          "data": {
            "image/png": "[encoded data removed]",
            "text/plain": [
              "<Figure size 432x288 with 1 Axes>"
            ]
          },
          "metadata": {
            "tags": [],
            "needs_background": "light"
          }
        }
      ]
    },
    {
      "cell_type": "code",
      "metadata": {
        "id": "SCJ4pKeENRXS",
        "colab_type": "code",
        "outputId": "21f45d35-142c-4931-9321-8a5712f912f3",
        "colab": {
          "base_uri": "https://localhost:8080/",
          "height": 554
        }
      },
      "source": [
        "# print(X0[][0])\n",
        "X0p, X1p = [], []\n",
        "Y0p, Y1p = [], []\n",
        "for c, i in X0:\n",
        "  X0p.append(c)\n",
        "  Y0p.append(i)\n",
        "for c, i in X1:\n",
        "  X1p.append(c)\n",
        "  Y1p.append(i)\n",
        "\n",
        "plt.plot(X0p, Y0p, 'ro', label='C1', color='blue')\n",
        "plt.plot(X1p, Y1p, 'ro', label='C2')\n",
        "# plt.plot(w[1], w[0])\n",
        "x = np.linspace(-5,5,100)\n",
        "y = w[1]*x+w[0]\n",
        "print(y)\n",
        "plt.plot(x, y, '-r', label='')\n",
        "# plt.axis([-5,5,-5,5])\n",
        "# plt.legend(loc='best')\n",
        "plt.show()"
      ],
      "execution_count": 0,
      "outputs": [
        {
          "output_type": "stream",
          "text": [
            "[ 4.05292927  3.98622183  3.91951438  3.85280694  3.78609949  3.71939205\n",
            "  3.6526846   3.58597716  3.51926971  3.45256227  3.38585482  3.31914738\n",
            "  3.25243993  3.18573249  3.11902504  3.0523176   2.98561015  2.91890271\n",
            "  2.85219526  2.78548782  2.71878037  2.65207293  2.58536548  2.51865804\n",
            "  2.45195059  2.38524315  2.3185357   2.25182826  2.18512081  2.11841337\n",
            "  2.05170592  1.98499848  1.91829103  1.85158359  1.78487614  1.7181687\n",
            "  1.65146125  1.58475381  1.51804636  1.45133892  1.38463147  1.31792403\n",
            "  1.25121658  1.18450914  1.11780169  1.05109425  0.9843868   0.91767936\n",
            "  0.85097191  0.78426447  0.71755702  0.65084958  0.58414213  0.51743469\n",
            "  0.45072724  0.3840198   0.31731235  0.25060491  0.18389746  0.11719002\n",
            "  0.05048257 -0.01622487 -0.08293232 -0.14963976 -0.21634721 -0.28305465\n",
            " -0.3497621  -0.41646954 -0.48317699 -0.54988443 -0.61659188 -0.68329932\n",
            " -0.75000677 -0.81671421 -0.88342166 -0.95012911 -1.01683655 -1.083544\n",
            " -1.15025144 -1.21695889 -1.28366633 -1.35037378 -1.41708122 -1.48378867\n",
            " -1.55049611 -1.61720356 -1.683911   -1.75061845 -1.81732589 -1.88403334\n",
            " -1.95074078 -2.01744823 -2.08415567 -2.15086312 -2.21757056 -2.28427801\n",
            " -2.35098545 -2.4176929  -2.48440034 -2.55110779]\n"
          ],
          "name": "stdout"
        },
        {
          "output_type": "display_data",
          "data": {
            "image/png": "[encoded data removed]",
            "text/plain": [
              "<Figure size 432x288 with 1 Axes>"
            ]
          },
          "metadata": {
            "tags": [],
            "needs_background": "light"
          }
        }
      ]
    },
    {
      "cell_type": "code",
      "metadata": {
        "id": "8MNkN2wJQuT_",
        "colab_type": "code",
        "outputId": "5bfd7f53-0915-45b5-9fe8-96d4a585ce56",
        "colab": {
          "base_uri": "https://localhost:8080/",
          "height": 282
        }
      },
      "source": [
        "x = [1,2,3,4]\n",
        "y = [1,4,9,16]\n",
        "plt.plot(Xp, Yp, 'ro')\n",
        "print(len(X0))\n",
        "# plt.axis([0, 6, 0, 20])\n",
        "\n",
        "# for i_x, i_y in zip(Xp, Yp):\n",
        "#     plt.text(i_x, i_y, '({}, {})'.format(i_x, i_y))\n",
        "\n",
        "plt.show()"
      ],
      "execution_count": 0,
      "outputs": [
        {
          "output_type": "stream",
          "text": [
            "40\n"
          ],
          "name": "stdout"
        },
        {
          "output_type": "display_data",
          "data": {
            "image/png": "[encoded data removed]",
            "text/plain": [
              "<Figure size 432x288 with 1 Axes>"
            ]
          },
          "metadata": {
            "tags": [],
            "needs_background": "light"
          }
        }
      ]
    }
  ]
}